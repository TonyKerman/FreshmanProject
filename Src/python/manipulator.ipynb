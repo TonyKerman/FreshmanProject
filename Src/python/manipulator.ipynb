{
 "cells": [
  {
   "cell_type": "code",
   "execution_count": 2,
   "metadata": {
    "collapsed": true,
    "ExecuteTime": {
     "end_time": "2023-05-29T11:08:29.240854446Z",
     "start_time": "2023-05-29T11:08:27.982783461Z"
    }
   },
   "outputs": [],
   "source": [
    "import numpy as np\n",
    "from mayavi import mlab\n",
    "from pathlib import Path\n",
    "import scipy"
   ]
  },
  {
   "cell_type": "code",
   "execution_count": 3,
   "outputs": [],
   "source": [
    "import scipy\n",
    "from scipy.spatial.transform import Rotation\n",
    "#设置print精度\n",
    "\n",
    "#平移变换\n",
    "def translation(qx,qy,qz):\n",
    "    Dq = np.array([[1,0,0,qx],\n",
    "                 [0,1,0,qy],\n",
    "                 [0,0,1,qz],\n",
    "                 [0,0,0,1]],dtype=float)\n",
    "    return Dq\n",
    "#旋转变换npa\n",
    "def rotation(cls,angles):\n",
    "    r = Rotation.from_euler(cls,angles,degrees=True)\n",
    "    R = r.as_matrix()\n",
    "    return R\n",
    "#一般变换\n",
    "def transform(Dm,Rm):\n",
    "    if(Dm.shape !=(4,4) or Rm.shape!=(3,3)):\n",
    "        raise IndexError(\"Wrong Matrix size!\")\n",
    "    temp = np.append(Rm,np.reshape(Dm[:3,3],(3,1)),axis=1)\n",
    "    temp = np.append(temp,[[0.,0.,0.,1.]],axis=0)\n",
    "    return temp\n",
    "#DH变换\n",
    "def DH_transform(alpha,a,d,theta):\n",
    "    ScrewX = transform(translation(a,0,0),rotation('x',alpha))\n",
    "    ScrewZ =transform(translation(0,0,d),rotation('z',theta))\n",
    "    T = ScrewX @ ScrewZ\n",
    "    return T\n"
   ],
   "metadata": {
    "collapsed": false,
    "ExecuteTime": {
     "end_time": "2023-05-29T11:08:29.296796910Z",
     "start_time": "2023-05-29T11:08:29.246244878Z"
    }
   }
  },
  {
   "cell_type": "code",
   "execution_count": 4,
   "outputs": [],
   "source": [
    "#假设舵机角度\n",
    "a0 =-45\n",
    "a1 = -60\n",
    "a2 = -120\n",
    "a3 = -90\n",
    "a4 = 0\n",
    "D0 = translation(0,0,0)\n",
    "R0 = rotation('xyz',[0,a0,0])\n",
    "T0 = transform(D0,R0)\n",
    "T1 = DH_transform(0,0,0,a1)\n",
    "T2 = DH_transform(180,100,0,a2)\n",
    "T3 = DH_transform(180,100,0,a3)\n",
    "T4 = DH_transform(90,0,10,a4)"
   ],
   "metadata": {
    "collapsed": false,
    "ExecuteTime": {
     "end_time": "2023-05-29T11:08:29.306784476Z",
     "start_time": "2023-05-29T11:08:29.305768466Z"
    }
   }
  },
  {
   "cell_type": "code",
   "execution_count": 16,
   "outputs": [
    {
     "name": "stdout",
     "output_type": "stream",
     "text": [
      "[[ 0.70710678 -0.         -0.70710678  0.        ]\n",
      " [ 0.          1.         -0.          0.        ]\n",
      " [ 0.70710678  0.          0.70710678  0.        ]\n",
      " [ 0.          0.          0.          1.        ]]\n",
      "[[ 0.5        0.8660254  0.         0.       ]\n",
      " [-0.8660254  0.5        0.         0.       ]\n",
      " [ 0.         0.         1.         0.       ]\n",
      " [ 0.         0.         0.         1.       ]]\n",
      "[[ 2.22044605e-16  0.00000000e+00  1.00000000e+00]\n",
      " [ 0.00000000e+00  1.00000000e+00  0.00000000e+00]\n",
      " [-1.00000000e+00  0.00000000e+00  2.22044605e-16]]\n",
      "[[-1.0000000e+00  1.2246468e-16  0.0000000e+00]\n",
      " [-1.2246468e-16 -1.0000000e+00 -0.0000000e+00]\n",
      " [-0.0000000e+00  0.0000000e+00  1.0000000e+00]]\n"
     ]
    }
   ],
   "source": [
    "print(T0)\n",
    "print(T1)\n",
    "print(rotation('xyz',[0,90,0]))\n",
    "m =np.array([[1,0,0],\n",
    "             [0,-1,0],\n",
    "             [0,0,-1]])\n",
    "r = Rotation.from_euler('z',-np.pi)\n",
    "\n",
    "print(r.as_matrix() )\n",
    "#print(np.reshape(D[:3,3],(3,1)))"
   ],
   "metadata": {
    "collapsed": false,
    "ExecuteTime": {
     "end_time": "2023-05-29T12:23:06.801547415Z",
     "start_time": "2023-05-29T12:23:06.800359926Z"
    }
   }
  },
  {
   "cell_type": "code",
   "execution_count": 4,
   "outputs": [],
   "source": [
    "#打印一个4*4位姿\n",
    "def mlab_showApose(pose):\n",
    "    mlab.quiver3d(pose[0][3], pose[1][3], pose[2][3], pose[0][0], pose[1][0], pose[2][0], line_width=2, scale_factor=80, colormap = \"Reds\")\n",
    "    mlab.quiver3d(pose[0][3], pose[1][3], pose[2][3], pose[0][1], pose[1][1], pose[2][1], line_width=2, scale_factor=80, colormap = \"Greens\")\n",
    "    mlab.quiver3d(pose[0][3], pose[1][3], pose[2][3], pose[0][2], pose[1][2], pose[2][2], line_width=2, scale_factor=100, colormap = \"Blues\")"
   ],
   "metadata": {
    "collapsed": false,
    "ExecuteTime": {
     "end_time": "2023-05-29T05:22:17.530506189Z",
     "start_time": "2023-05-29T05:22:17.520785255Z"
    }
   }
  },
  {
   "cell_type": "code",
   "execution_count": 5,
   "outputs": [],
   "source": [
    "\n",
    "mlab.quiver3d(0, 0, 0, 1, 0, 0, line_width=4, scale_factor=200, colormap = \"Reds\")\n",
    "mlab.quiver3d(0, 0, 0, 0, 1, 0, line_width=4, scale_factor=200, colormap = \"Greens\")\n",
    "mlab.quiver3d(0, 0, 0, 0, 0, 1, line_width=4, scale_factor=200, colormap = \"Blues\")\n",
    "mlab_showApose(T0)\n",
    "mlab_showApose(T0@T1)\n",
    "mlab_showApose(T0@T1@T2)\n",
    "mlab_showApose(T0@T1@T2@T3)\n",
    "mlab_showApose(T0@T1@T2@T3@T4)\n",
    "mlab.show()"
   ],
   "metadata": {
    "collapsed": false,
    "ExecuteTime": {
     "end_time": "2023-05-29T05:22:19.431026767Z",
     "start_time": "2023-05-29T05:22:17.531100813Z"
    }
   }
  },
  {
   "cell_type": "code",
   "execution_count": 6,
   "outputs": [],
   "source": [
    "import sympy as sy\n",
    "a1,a2,a3,a4,l1,l2,l3,l4,d1,d2,d3,d4,t1 =sy.symbols('a1,a2,a3,a4,l1,l2,l3,l4,d1,d2,d3,d4,t1', real =True)\n",
    "D0 = translation(0,0,0)\n",
    "R0 = rotation('xyz',[0,-45,0])\n",
    "def DH_T(alpha, a, d, theta):\n",
    "    m = sy.Matrix([[sy.cos(theta), -sy.sin(theta), 0, a],\n",
    "                [sy.sin(theta)*sy.cos(alpha), sy.cos(theta)*sy.cos(alpha), -sy.sin(alpha), -sy.sin(alpha)*d],\n",
    "                [sy.sin(theta)*sy.sin(alpha), sy.cos(theta)*sy.sin(alpha), sy.cos(alpha), sy.cos(alpha)*d],\n",
    "                [0, 0, 0, 1]])\n",
    "    return m\n",
    "def\n",
    "#DH_T(0,0,0,a1)*DH_T(0,l1,0,a2)*DH_T(0,l2,0,a3)\n"
   ],
   "metadata": {
    "collapsed": false,
    "ExecuteTime": {
     "end_time": "2023-05-29T05:22:20.356850414Z",
     "start_time": "2023-05-29T05:22:20.066580181Z"
    }
   }
  },
  {
   "cell_type": "code",
   "execution_count": 7,
   "outputs": [],
   "source": [
    "#solve h/cos(a0)=l1*cos(a1)+l2*sin(-a2+a1-pi/2),l1*sin(a1)=x+l2*cos(-a2+a1-pi/2),a3=a1-a2-pi/2,a0=pi/6 for a1,a2,a3"
   ],
   "metadata": {
    "collapsed": false,
    "ExecuteTime": {
     "end_time": "2023-05-29T05:22:21.088745659Z",
     "start_time": "2023-05-29T05:22:21.077593906Z"
    }
   }
  },
  {
   "cell_type": "code",
   "execution_count": 9,
   "outputs": [
    {
     "data": {
      "text/plain": "Matrix([\n[        cos(a1),        -sin(a1),        0,          l1],\n[sin(a1)*cos(t1), cos(a1)*cos(t1), -sin(t1), -d1*sin(t1)],\n[sin(a1)*sin(t1), sin(t1)*cos(a1),  cos(t1),  d1*cos(t1)],\n[              0,               0,        0,           1]])",
      "text/latex": "$\\displaystyle \\left[\\begin{matrix}\\cos{\\left(a_{1} \\right)} & - \\sin{\\left(a_{1} \\right)} & 0 & l_{1}\\\\\\sin{\\left(a_{1} \\right)} \\cos{\\left(t_{1} \\right)} & \\cos{\\left(a_{1} \\right)} \\cos{\\left(t_{1} \\right)} & - \\sin{\\left(t_{1} \\right)} & - d_{1} \\sin{\\left(t_{1} \\right)}\\\\\\sin{\\left(a_{1} \\right)} \\sin{\\left(t_{1} \\right)} & \\sin{\\left(t_{1} \\right)} \\cos{\\left(a_{1} \\right)} & \\cos{\\left(t_{1} \\right)} & d_{1} \\cos{\\left(t_{1} \\right)}\\\\0 & 0 & 0 & 1\\end{matrix}\\right]$"
     },
     "execution_count": 9,
     "metadata": {},
     "output_type": "execute_result"
    }
   ],
   "source": [
    "DH_T(t1,l1,d1,a1)"
   ],
   "metadata": {
    "collapsed": false,
    "ExecuteTime": {
     "end_time": "2023-05-29T05:22:30.860220198Z",
     "start_time": "2023-05-29T05:22:30.852536535Z"
    }
   }
  },
  {
   "cell_type": "code",
   "execution_count": 6,
   "outputs": [
    {
     "data": {
      "text/plain": "Matrix([\n[cos(a2), -sin(a2), 0, l1],\n[sin(a2),  cos(a2), 0,  0],\n[      0,        0, 1,  0],\n[      0,        0, 0,  1]])",
      "text/latex": "$\\displaystyle \\left[\\begin{matrix}\\cos{\\left(a_{2} \\right)} & - \\sin{\\left(a_{2} \\right)} & 0 & l_{1}\\\\\\sin{\\left(a_{2} \\right)} & \\cos{\\left(a_{2} \\right)} & 0 & 0\\\\0 & 0 & 1 & 0\\\\0 & 0 & 0 & 1\\end{matrix}\\right]$"
     },
     "execution_count": 6,
     "metadata": {},
     "output_type": "execute_result"
    }
   ],
   "source": [
    "DH_T(0,l1,0,a2)"
   ],
   "metadata": {
    "collapsed": false,
    "ExecuteTime": {
     "end_time": "2023-05-26T15:19:29.677294962Z",
     "start_time": "2023-05-26T15:19:29.635256743Z"
    }
   }
  },
  {
   "cell_type": "code",
   "execution_count": 7,
   "outputs": [
    {
     "data": {
      "text/plain": "Matrix([\n[cos(a3), -sin(a3), 0, l2],\n[sin(a3),  cos(a3), 0,  0],\n[      0,        0, 1,  0],\n[      0,        0, 0,  1]])",
      "text/latex": "$\\displaystyle \\left[\\begin{matrix}\\cos{\\left(a_{3} \\right)} & - \\sin{\\left(a_{3} \\right)} & 0 & l_{2}\\\\\\sin{\\left(a_{3} \\right)} & \\cos{\\left(a_{3} \\right)} & 0 & 0\\\\0 & 0 & 1 & 0\\\\0 & 0 & 0 & 1\\end{matrix}\\right]$"
     },
     "execution_count": 7,
     "metadata": {},
     "output_type": "execute_result"
    }
   ],
   "source": [
    "DH_T(0,l2,0,a3)"
   ],
   "metadata": {
    "collapsed": false,
    "ExecuteTime": {
     "end_time": "2023-05-26T15:20:12.873172992Z",
     "start_time": "2023-05-26T15:20:12.830639108Z"
    }
   }
  },
  {
   "cell_type": "code",
   "execution_count": null,
   "outputs": [],
   "source": [],
   "metadata": {
    "collapsed": false
   }
  }
 ],
 "metadata": {
  "kernelspec": {
   "display_name": "Python 3",
   "language": "python",
   "name": "python3"
  },
  "language_info": {
   "codemirror_mode": {
    "name": "ipython",
    "version": 2
   },
   "file_extension": ".py",
   "mimetype": "text/x-python",
   "name": "python",
   "nbconvert_exporter": "python",
   "pygments_lexer": "ipython2",
   "version": "2.7.6"
  }
 },
 "nbformat": 4,
 "nbformat_minor": 0
}
